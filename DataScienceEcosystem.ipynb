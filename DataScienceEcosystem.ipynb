{
 "cells": [
  {
   "cell_type": "markdown",
   "id": "0d6d0b38-ca79-48d7-8495-4b9ef2a17ee1",
   "metadata": {},
   "source": [
    "# Data Science Tools and Ecosystem"
   ]
  },
  {
   "cell_type": "markdown",
   "id": "9f14dab7-9a93-4556-81eb-9f7714f5670b",
   "metadata": {},
   "source": [
    "In this notebook, Data Science Tools and Ecosystem are summarized."
   ]
  },
  {
   "cell_type": "markdown",
   "id": "99cc1cbc-c64b-4c5c-ad39-b06af6a02003",
   "metadata": {},
   "source": [
    "**Objectives:**\n",
    "\n",
    "Some of the key takeaways from this course are listed as follows.\n",
    "- Python, R, and SQL are some of the popular languages used by Data Scientists\n",
    "- Common libraries used by Data Scientist include Pandas, Scikit-learn, and Matplotlib\n",
    "- IBM Watson Studio, RStudio, and Microsoft Visual Studio are among the common development environment open source tools used in data science"
   ]
  },
  {
   "cell_type": "markdown",
   "id": "7b89a4da-b45f-42d7-bf39-5b362d5a1f02",
   "metadata": {},
   "source": [
    "Some of the popular languages that Data Scientists use are: \n",
    "1. Python\n",
    "2. R\n",
    "3. SQL\n",
    "4. Scala\n",
    "5. Java\n",
    "6. C++\n",
    "7. Julia"
   ]
  },
  {
   "cell_type": "markdown",
   "id": "e5012986-1606-48d2-a348-51eaf2a2e93c",
   "metadata": {},
   "source": [
    "Some of the commonly used libraries used by Data Scientists include: \n",
    "1. Pandas\n",
    "2. Numpy\n",
    "3. Scikit-learn\n",
    "4. TensorFlow\n",
    "5. Matplotlib\n",
    "6. Plotly\n",
    "7. Seaborn"
   ]
  },
  {
   "cell_type": "markdown",
   "id": "1ff94723-ab2a-4225-82bf-e304b7d86302",
   "metadata": {},
   "source": [
    "| Data Science Tools |\n",
    "| ------------------ |\n",
    "| IBM Watson Studio |\n",
    "| RStudio |\n",
    "| Microsoft Visual Studio |"
   ]
  },
  {
   "cell_type": "markdown",
   "id": "1958125d-dfb1-4712-b04a-c8f4fdbdce2d",
   "metadata": {},
   "source": [
    "### Below are a few examples of evaluating arithmetic expressions in Python"
   ]
  },
  {
   "cell_type": "code",
   "execution_count": 1,
   "id": "c35af06e-6bfc-4bda-82cb-80e8626d5628",
   "metadata": {},
   "outputs": [
    {
     "data": {
      "text/plain": [
       "17"
      ]
     },
     "execution_count": 1,
     "metadata": {},
     "output_type": "execute_result"
    }
   ],
   "source": [
    "# This is a simple arithmetic expression to multiply then add integers\n",
    "(3*4)+5"
   ]
  },
  {
   "cell_type": "code",
   "execution_count": 2,
   "id": "ac317789-f68d-4bbe-b0b8-3bca38d40f5e",
   "metadata": {},
   "outputs": [
    {
     "data": {
      "text/plain": [
       "3.3333333333333335"
      ]
     },
     "execution_count": 2,
     "metadata": {},
     "output_type": "execute_result"
    }
   ],
   "source": [
    "# This will convert 200 minutes to hours by diving by 60\n",
    "200/60"
   ]
  },
  {
   "cell_type": "markdown",
   "id": "68b6f4d4-a726-4867-a0ba-8aa9349b4c23",
   "metadata": {},
   "source": [
    "## Author\n",
    "Ebenezer Adenipekun"
   ]
  },
  {
   "cell_type": "code",
   "execution_count": null,
   "id": "e9cad2bb-dedd-4567-a122-fe33a4258ea5",
   "metadata": {},
   "outputs": [],
   "source": []
  }
 ],
 "metadata": {
  "kernelspec": {
   "display_name": "Python 3 (ipykernel)",
   "language": "python",
   "name": "python3"
  },
  "language_info": {
   "codemirror_mode": {
    "name": "ipython",
    "version": 3
   },
   "file_extension": ".py",
   "mimetype": "text/x-python",
   "name": "python",
   "nbconvert_exporter": "python",
   "pygments_lexer": "ipython3",
   "version": "3.13.5"
  }
 },
 "nbformat": 4,
 "nbformat_minor": 5
}
